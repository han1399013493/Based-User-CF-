{
 "cells": [
  {
   "cell_type": "code",
   "execution_count": 17,
   "metadata": {
    "slideshow": {
     "slide_type": "-"
    }
   },
   "outputs": [],
   "source": [
    "import random\n",
    "import math\n",
    "from operator import itemgetter"
   ]
  },
  {
   "cell_type": "markdown",
   "metadata": {},
   "source": [
    "## 初始化"
   ]
  },
  {
   "cell_type": "code",
   "execution_count": 18,
   "metadata": {
    "slideshow": {
     "slide_type": "-"
    }
   },
   "outputs": [],
   "source": [
    "class UserBasedCF():\n",
    "    # 初始化相关参数\n",
    "    def __init__(self):\n",
    "        # 找到与目标用户兴趣相似的50个用户，为其推荐5部电影\n",
    "        self.n_sim_user = 50\n",
    "        self.n_rec_movie = 5\n",
    "\n",
    "        # 将数据集划分为训练集和测试集\n",
    "        self.trainSet = {}\n",
    "        self.testSet = {}\n",
    "\n",
    "        # 用户相似度矩阵\n",
    "        self.user_sim_matrix = {}\n",
    "        self.movie_count = 0\n",
    "\n",
    "        print('Similar user number = %d' % self.n_sim_user)\n",
    "        print('Recommneded movie number = %d' % self.n_rec_movie)\n",
    "\n",
    "\n",
    "    # 读文件得到“用户-电影”数据\n",
    "    def get_dataset(self, filename, pivot=0.75):\n",
    "        trainSet_len = 0\n",
    "        testSet_len = 0\n",
    "        for line in self.load_file(filename):\n",
    "            user, movie, rating, timestamp = line.split(',')\n",
    "            if random.random() < pivot:\n",
    "                self.trainSet.setdefault(user, {})\n",
    "                self.trainSet[user][movie] = rating\n",
    "                trainSet_len += 1\n",
    "            else:\n",
    "                self.testSet.setdefault(user, {})\n",
    "                self.testSet[user][movie] = rating\n",
    "                testSet_len += 1\n",
    "        print('Split trainingSet and testSet success!')\n",
    "        print('TrainSet = %s' % trainSet_len)\n",
    "        print('TestSet = %s' % testSet_len)\n",
    "\n",
    "\n",
    "    # 读文件，返回文件的每一行\n",
    "    def load_file(self, filename):\n",
    "        with open(filename, 'r') as f:\n",
    "            for i, line in enumerate(f):\n",
    "                if i == 0:  # 去掉文件第一行的title\n",
    "                    continue\n",
    "                yield line.strip('\\r\\n')\n",
    "        print('Load %s success!' % filename)\n",
    "\n",
    "    # 针对目标用户U，找到其最相似的K个用户，产生N个推荐\n",
    "    def recommend(self, user):\n",
    "        K = self.n_sim_user\n",
    "        N = self.n_rec_movie\n",
    "        rank = {}\n",
    "        watched_movies = self.trainSet[user]\n",
    "\n",
    "        # v=similar user, wuv=similar factor\n",
    "        for v, wuv in sorted(self.user_sim_matrix[user].items(), key=itemgetter(1), reverse=True)[0:K]:\n",
    "            for movie in self.trainSet[v]:\n",
    "                if movie in watched_movies:\n",
    "                    continue\n",
    "                rank.setdefault(movie, 0)\n",
    "                rank[movie] += wuv*float(self.trainSet[v][movie])\n",
    "        return sorted(rank.items(), key=itemgetter(1), reverse=True)[0:N]\n",
    "\n",
    "\n",
    "    # 产生推荐并通过准确率、召回率和覆盖率进行评估\n",
    "    def evaluate(self):\n",
    "        print(\"Evaluation start ...\")\n",
    "        N = self.n_rec_movie\n",
    "        # 准确率和召回率\n",
    "        hit = 0\n",
    "        rec_count = 0\n",
    "        test_count = 0\n",
    "        # 覆盖率\n",
    "        all_rec_movies = set()\n",
    "\n",
    "        for i, user, in enumerate(self.trainSet):\n",
    "            test_movies = self.testSet.get(user, {})\n",
    "            rec_movies = self.recommend(user)\n",
    "            for movie, w in rec_movies:\n",
    "                if movie in test_movies:\n",
    "                    hit += 1\n",
    "                all_rec_movies.add(movie)\n",
    "            rec_count += N\n",
    "            test_count += len(test_movies)\n",
    "\n",
    "        precision = hit / (1.0 * rec_count)\n",
    "        recall = hit / (1.0 * test_count)\n",
    "        coverage = len(all_rec_movies) / (1.0 * self.movie_count)\n",
    "        print('precisioin=%.4f\\trecall=%.4f\\t  coverage=%.4f' % (precision, recall, coverage))\n"
   ]
  },
  {
   "cell_type": "code",
   "execution_count": 19,
   "metadata": {},
   "outputs": [],
   "source": [
    "class Euclidean(UserBasedCF):\n",
    "    # 欧几里得相似度\n",
    "    def calc_user_sim_euclidean(self):\n",
    "\n",
    "        # 构建“电影-用户”倒排索引\n",
    "        # key = movieID, value = list of userIDs who have seen this movie\n",
    "        print('Building movie-user table ...')\n",
    "        movie_user = {}\n",
    "        for user, movies in self.trainSet.items():\n",
    "            for movie in movies:\n",
    "                if movie not in movie_user:\n",
    "                    movie_user[movie] = set()\n",
    "                movie_user[movie].add(user)\n",
    "        print('Build movie-user table success!')\n",
    "        self.movie_count = len(movie_user)\n",
    "        print('Total movie number = %d' % self.movie_count)\n",
    "\n",
    "        self.user_count = len(self.trainSet)\n",
    "        print('Total user  number = %d' % self.user_count)\n",
    "\n",
    "        for a in self.trainSet:\n",
    "            for b in self.trainSet:\n",
    "                if a == b :\n",
    "                    continue\n",
    "                si = {}\n",
    "                for item in self.trainSet[a]:\n",
    "                    if item in self.trainSet[b]:\n",
    "                        si[item] = 1\n",
    "\n",
    "                if len(si) == 0:\n",
    "                    self.user_sim_matrix.setdefault(a, {})\n",
    "                    self.user_sim_matrix[a].setdefault(b,0)\n",
    "                    continue\n",
    "\n",
    "                result =sum(pow(float(self.trainSet[a][item])-float(self.trainSet[b][item]),2)for item in si)\n",
    "                \n",
    "                self.user_sim_matrix.setdefault(a, {})\n",
    "                self.user_sim_matrix[a].setdefault(b, 0)\n",
    "                self.user_sim_matrix[a][b] = 1/(1+math.sqrt(result))\n",
    "\n",
    "        print('Calculate user similarity matrix success!')\n"
   ]
  },
  {
   "cell_type": "markdown",
   "metadata": {},
   "source": [
    "## 欧氏距离\n",
    "<br>\n",
    "<br>\n",
    "<br>\n",
    "$\\displaystyle d(x, y)=\\sqrt{\\left(\\sum\\left(x_{i}-y_{i}\\right)^{2}\\right)}$\n",
    "<br>\n",
    "<br>\n",
    "<br>\n",
    "$\\displaystyle\\operatorname{sim}(x, y)=\\frac{1}{1+d(x, y)}$\n",
    "<br>\n",
    "<br>\n",
    "<br>"
   ]
  },
  {
   "cell_type": "code",
   "execution_count": 20,
   "metadata": {},
   "outputs": [],
   "source": [
    "class Pearson(UserBasedCF):\n",
    "    # 皮尔逊相似度\n",
    "    def calc_user_sim_pearson(self):\n",
    "        # 构建“电影-用户”倒排索引\n",
    "        # key = movieID, value = list of userIDs who have seen this movie\n",
    "        print('Building movie-user table ...')\n",
    "        movie_user = {}\n",
    "        for user, movies in self.trainSet.items():\n",
    "            for movie in movies:\n",
    "                if movie not in movie_user:\n",
    "                    movie_user[movie] = set()\n",
    "                movie_user[movie].add(user)\n",
    "        print('Build movie-user table success!')\n",
    "        self.movie_count = len(movie_user)\n",
    "        print('Total movie number = %d' % self.movie_count)\n",
    "\n",
    "        self.user_count = len(self.trainSet)\n",
    "        print('Total user  number = %d' % self.user_count)\n",
    "\n",
    "        for a in self.trainSet:\n",
    "            for b in self.trainSet:\n",
    "                if a == b :\n",
    "                    continue\n",
    "                si = {}\n",
    "                for item in self.trainSet[a]:\n",
    "                    if item in self.trainSet[b]:\n",
    "                        si[item] = 1\n",
    "                #得到列表元素个数\n",
    "                n = len(si)\n",
    "                #二者无共同之处，则返回1\n",
    "                if n == 0:\n",
    "                    continue\n",
    "                #对所有偏好求和\n",
    "                sum1 = sum([float(self.trainSet[a][item]) for item in si])\n",
    "                sum2 = sum([float(self.trainSet[b][item]) for item in si])\n",
    "\n",
    "                #求平方和\n",
    "                sum1Sq = sum([pow(float(self.trainSet[a][item]),2) for item in si])\n",
    "                sum2Sq = sum([pow(float(self.trainSet[b][item]),2) for item in si])\n",
    "\n",
    "                #求乘积之和\n",
    "                pSum = sum([float(self.trainSet[a][item]) * float(self.trainSet[b][item]) for item in si])\n",
    "\n",
    "                #计算皮尔逊评价值\n",
    "                num = pSum - (sum1*sum2/n)\n",
    "                den = math.sqrt((sum1Sq - pow(sum1, 2)/n) * (sum2Sq - pow(sum2, 2)/n))\n",
    "                if den == 0: \n",
    "                    r = 0\n",
    "                    self.user_sim_matrix.setdefault(a, {})\n",
    "                    self.user_sim_matrix[a].setdefault(b, 0)\n",
    "                    self.user_sim_matrix[a][b] = r\n",
    "                    continue\n",
    "\n",
    "                r = num/den\n",
    "\n",
    "                self.user_sim_matrix.setdefault(a, {})\n",
    "                self.user_sim_matrix[a].setdefault(b, 0)\n",
    "                self.user_sim_matrix[a][b] = r"
   ]
  },
  {
   "cell_type": "markdown",
   "metadata": {},
   "source": [
    "## 皮尔逊相关度\n",
    "<br>\n",
    "<br>\n",
    "<br>\n",
    "$\\displaystyle r=\\frac{\\sum_{i=1}^{n}\\left(X_{i}-\\bar{X}\\right)\\left(Y_{i}-\\bar{Y}\\right)}{\\sqrt{\\sum_{i=1}^{n}\\left(X_{i}-\\bar{X}\\right)^{2}} \\sqrt{\\sum_{i=1}^{n}\\left(Y_{i}-\\bar{Y}\\right)^{2}}}$\n",
    "<br>\n",
    "<br>\n",
    "<br>\n",
    "<br>\n",
    "<br>"
   ]
  },
  {
   "cell_type": "code",
   "execution_count": 21,
   "metadata": {},
   "outputs": [],
   "source": [
    "class Cosine(UserBasedCF):\n",
    "    # 余弦相似度\n",
    "    def calc_user_sim_cos(self):\n",
    "\n",
    "        # 构建“电影-用户”倒排索引\n",
    "        # key = movieID, value = list of userIDs who have seen this movie\n",
    "        print('Building movie-user table ...')\n",
    "        movie_user = {}\n",
    "        for user, movies in self.trainSet.items():\n",
    "            for movie in movies:\n",
    "                if movie not in movie_user:\n",
    "                    movie_user[movie] = set()\n",
    "                movie_user[movie].add(user)\n",
    "        print('Build movie-user table success!')\n",
    "        self.movie_count = len(movie_user)\n",
    "        print('Total movie number = %d' % self.movie_count)\n",
    "\n",
    "        self.user_count = len(self.trainSet)\n",
    "        print('Total user  number = %d' % self.user_count)\n",
    "\n",
    "        for a in self.trainSet:\n",
    "            for b in self.trainSet:\n",
    "                if a == b :\n",
    "                    continue\n",
    "                si = {}\n",
    "                for item in self.trainSet[a]:\n",
    "                    if item in self.trainSet[b]:\n",
    "                        si[item] = 1\n",
    "\n",
    "                if len(si) == 0:\n",
    "                    self.user_sim_matrix.setdefault(a, {})\n",
    "                    self.user_sim_matrix[a].setdefault(b,0)\n",
    "                    continue\n",
    "\n",
    "                mol = sum( (float(self.trainSet[a][item]) * float(self.trainSet[b][item])) for item in si)\n",
    "                den = math.sqrt(sum(pow(float(self.trainSet[a][item]),2)for item in si)) * math.sqrt(sum(pow(float(self.trainSet[b][item]),2)for item in si))\n",
    "                result = mol/den\n",
    "\n",
    "                self.user_sim_matrix.setdefault(a, {})\n",
    "                self.user_sim_matrix[a].setdefault(b, 0)\n",
    "                self.user_sim_matrix[a][b] = result\n",
    "\n",
    "        print('Calculate user similarity matrix success!')"
   ]
  },
  {
   "cell_type": "markdown",
   "metadata": {},
   "source": [
    "## 余弦相似度\n",
    "<br>\n",
    "<br>\n",
    "<br>\n",
    "<br>\n",
    "$\\displaystyle\\cos (\\theta)=\\frac{A \\cdot B}{\\|A\\|\\|B\\|}=\\frac{\\sum_{i=1}^{n} A_{i} \\times B_{i}}{\\sqrt{\\sum_{i=1}^{n}\\left(A_{i}\\right)^{2} \\times \\sqrt{\\sum_{i=1}^{n}\\left(B_{i}\\right)^{2}}}}$\n",
    "<br>\n",
    "<br>\n",
    "<br>\n",
    "<br>\n",
    "<br>"
   ]
  },
  {
   "cell_type": "code",
   "execution_count": 22,
   "metadata": {
    "scrolled": true
   },
   "outputs": [],
   "source": [
    "if __name__ == '__main__':\n",
    "    rating_file = 'C:\\\\Users\\\\韩茂洲\\\\OneDrive\\\\桌面\\\\数据集\\\\ml-latest-small\\\\ratings.csv'"
   ]
  },
  {
   "cell_type": "markdown",
   "metadata": {},
   "source": [
    "### 欧几里得距离"
   ]
  },
  {
   "cell_type": "code",
   "execution_count": 23,
   "metadata": {},
   "outputs": [
    {
     "name": "stdout",
     "output_type": "stream",
     "text": [
      "Similar user number = 50\n",
      "Recommneded movie number = 5\n",
      "Load C:\\Users\\韩茂洲\\OneDrive\\桌面\\数据集\\ml-latest-small\\ratings.csv success!\n",
      "Split trainingSet and testSet success!\n",
      "TrainSet = 75531\n",
      "TestSet = 25305\n",
      "Use Euclidean\n",
      "Building movie-user table ...\n",
      "Build movie-user table success!\n",
      "Total movie number = 8763\n",
      "Total user  number = 610\n",
      "Calculate user similarity matrix success!\n",
      "Evaluation start ...\n",
      "precisioin=0.1275\trecall=0.0154\t  coverage=0.0126\n"
     ]
    }
   ],
   "source": [
    "    ecu = Euclidean()\n",
    "    ecu.get_dataset(rating_file)\n",
    "    print(\"Use Euclidean\")\n",
    "    ecu.calc_user_sim_euclidean()   ###欧几里得距离\n",
    "    ecu.evaluate()"
   ]
  },
  {
   "cell_type": "markdown",
   "metadata": {},
   "source": [
    "### 皮尔逊相似度"
   ]
  },
  {
   "cell_type": "code",
   "execution_count": 24,
   "metadata": {},
   "outputs": [
    {
     "name": "stdout",
     "output_type": "stream",
     "text": [
      "Similar user number = 50\n",
      "Recommneded movie number = 5\n",
      "Load C:\\Users\\韩茂洲\\OneDrive\\桌面\\数据集\\ml-latest-small\\ratings.csv success!\n",
      "Split trainingSet and testSet success!\n",
      "TrainSet = 75463\n",
      "TestSet = 25373\n",
      "Use Pearson\n",
      "Building movie-user table ...\n",
      "Build movie-user table success!\n",
      "Total movie number = 8787\n",
      "Total user  number = 610\n",
      "Evaluation start ...\n",
      "precisioin=0.1682\trecall=0.0202\t  coverage=0.0112\n"
     ]
    }
   ],
   "source": [
    "    pearson = Pearson()\n",
    "    pearson.get_dataset(rating_file)\n",
    "    print(\"Use Pearson\")\n",
    "    pearson.calc_user_sim_pearson()   ###皮尔逊相似度\n",
    "    pearson.evaluate()"
   ]
  },
  {
   "cell_type": "markdown",
   "metadata": {},
   "source": [
    "### 余弦相似度"
   ]
  },
  {
   "cell_type": "code",
   "execution_count": 25,
   "metadata": {},
   "outputs": [
    {
     "name": "stdout",
     "output_type": "stream",
     "text": [
      "Similar user number = 50\n",
      "Recommneded movie number = 5\n",
      "Load C:\\Users\\韩茂洲\\OneDrive\\桌面\\数据集\\ml-latest-small\\ratings.csv success!\n",
      "Split trainingSet and testSet success!\n",
      "TrainSet = 75683\n",
      "TestSet = 25153\n",
      "Use Cosine\n",
      "Building movie-user table ...\n",
      "Build movie-user table success!\n",
      "Total movie number = 8721\n",
      "Total user  number = 610\n",
      "Calculate user similarity matrix success!\n",
      "Evaluation start ...\n",
      "precisioin=0.1328\trecall=0.0161\t  coverage=0.0110\n"
     ]
    }
   ],
   "source": [
    "    cosine = Cosine()\n",
    "    cosine.get_dataset(rating_file)\n",
    "    print(\"Use Cosine\")\n",
    "    cosine.calc_user_sim_cos()           ###余弦相似度\n",
    "    cosine.evaluate()"
   ]
  }
 ],
 "metadata": {
  "kernelspec": {
   "display_name": "Python 3",
   "language": "python",
   "name": "python3"
  },
  "language_info": {
   "codemirror_mode": {
    "name": "ipython",
    "version": 3
   },
   "file_extension": ".py",
   "mimetype": "text/x-python",
   "name": "python",
   "nbconvert_exporter": "python",
   "pygments_lexer": "ipython3",
   "version": "3.8.5"
  }
 },
 "nbformat": 4,
 "nbformat_minor": 4
}
